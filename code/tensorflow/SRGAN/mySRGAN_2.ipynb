{
 "cells": [
  {
   "cell_type": "markdown",
   "metadata": {},
   "source": [
    "Data set pre-processing for SRGAN"
   ]
  },
  {
   "cell_type": "code",
   "execution_count": 12,
   "metadata": {
    "scrolled": false
   },
   "outputs": [
    {
     "name": "stdout",
     "output_type": "stream",
     "text": [
      "[TL] read 8 from Data\\DIV2K_train_HR\\DIV2K_train_HR\n",
      "<BatchDataset shapes: ((?, 96, 96, 3), (?, 384, 384, 3)), types: (tf.float32, tf.float32)>\n"
     ]
    }
   ],
   "source": [
    "import numpy as np\n",
    "import tensorflow as tf\n",
    "import tensorlayer as tfl\n",
    "\n",
    "import matplotlib.pyplot as plt\n",
    "\n",
    "n_epoch = 200\n",
    "batch_size = 16\n",
    "\n",
    "lr_init = 1e-4\n",
    "\n",
    "hr_images_path = \"Data\\DIV2K_train_HR\\DIV2K_train_HR\"\n",
    "hr_images_file = sorted(tfl.files.load_file_list(path=hr_images_path, regx='.*62.png', printable=False))\n",
    "hr_images_train = tfl.visualize.read_images(hr_images_file, path=hr_images_path)\n",
    "\n",
    "hr_images_ds = []\n",
    "lr_images_ds = []\n",
    "\n",
    "for img in hr_images_train:\n",
    "    hr_patch = tf.random_crop(img, [384, 384, 3])\n",
    "    hr_patch = tf.divide(hr_patch, 255) * 2 - 1\n",
    "    hr_patch  = tf.image.random_flip_left_right(hr_patch)\n",
    "    lr_patch  = tf.image.resize_images(hr_patch, size=[96, 96])\n",
    "    hr_images_ds.append(hr_patch)\n",
    "    lr_images_ds.append(lr_patch)\n",
    "\n",
    "train_images_ds = tf.data.Dataset.from_tensor_slices((lr_images_ds, hr_images_ds))\n",
    "train_images_ds = train_images_ds.repeat(300)\n",
    "train_images_ds = train_images_ds.shuffle(128)\n",
    "train_images_ds = train_images_ds.prefetch(2048)\n",
    "train_images_ds = train_images_ds.batch(16)\n",
    "\n",
    "print(train_images_ds)\n"
   ]
  },
  {
   "cell_type": "markdown",
   "metadata": {},
   "source": [
    "\n",
    "Define the model "
   ]
  },
  {
   "cell_type": "code",
   "execution_count": 15,
   "metadata": {
    "scrolled": true
   },
   "outputs": [
    {
     "ename": "AttributeError",
     "evalue": "'tuple' object has no attribute 'all_layers'",
     "output_type": "error",
     "traceback": [
      "\u001b[1;31m---------------------------------------------------------------------------\u001b[0m",
      "\u001b[1;31mAttributeError\u001b[0m                            Traceback (most recent call last)",
      "\u001b[1;32m<ipython-input-15-ab934fd23f1b>\u001b[0m in \u001b[0;36m<module>\u001b[1;34m\u001b[0m\n\u001b[0;32m     77\u001b[0m \u001b[1;33m\u001b[0m\u001b[0m\n\u001b[0;32m     78\u001b[0m \u001b[1;33m\u001b[0m\u001b[0m\n\u001b[1;32m---> 79\u001b[1;33m \u001b[0mGEN\u001b[0m \u001b[1;33m=\u001b[0m \u001b[0mSRGAN_GEN\u001b[0m\u001b[1;33m(\u001b[0m\u001b[1;33m(\u001b[0m\u001b[0mbatch_size\u001b[0m\u001b[1;33m,\u001b[0m \u001b[1;32mNone\u001b[0m\u001b[1;33m,\u001b[0m \u001b[1;32mNone\u001b[0m\u001b[1;33m,\u001b[0m \u001b[1;36m3\u001b[0m\u001b[1;33m)\u001b[0m\u001b[1;33m)\u001b[0m \u001b[1;31m# (None, 96, 96, 3)\u001b[0m\u001b[1;33m\u001b[0m\u001b[0m\n\u001b[0m\u001b[0;32m     80\u001b[0m \u001b[0mDIS\u001b[0m \u001b[1;33m=\u001b[0m \u001b[0mSRGAN_DIS\u001b[0m\u001b[1;33m(\u001b[0m\u001b[1;33m(\u001b[0m\u001b[0mbatch_size\u001b[0m\u001b[1;33m,\u001b[0m \u001b[1;32mNone\u001b[0m\u001b[1;33m,\u001b[0m \u001b[1;32mNone\u001b[0m\u001b[1;33m,\u001b[0m \u001b[1;36m3\u001b[0m\u001b[1;33m)\u001b[0m\u001b[1;33m)\u001b[0m \u001b[1;31m# (None, 384, 384, 3)\u001b[0m\u001b[1;33m\u001b[0m\u001b[0m\n\u001b[0;32m     81\u001b[0m \u001b[1;33m\u001b[0m\u001b[0m\n",
      "\u001b[1;32m<ipython-input-15-ab934fd23f1b>\u001b[0m in \u001b[0;36mSRGAN_GEN\u001b[1;34m(input_shape)\u001b[0m\n\u001b[0;32m     10\u001b[0m     \u001b[0mg_init\u001b[0m \u001b[1;33m=\u001b[0m \u001b[0mtf\u001b[0m\u001b[1;33m.\u001b[0m\u001b[0mrandom_normal_initializer\u001b[0m\u001b[1;33m(\u001b[0m\u001b[1;36m1.\u001b[0m\u001b[1;33m,\u001b[0m \u001b[1;36m0.02\u001b[0m\u001b[1;33m)\u001b[0m\u001b[1;33m\u001b[0m\u001b[0m\n\u001b[0;32m     11\u001b[0m \u001b[1;33m\u001b[0m\u001b[0m\n\u001b[1;32m---> 12\u001b[1;33m     \u001b[0mn0\u001b[0m \u001b[1;33m=\u001b[0m \u001b[0mInputLayer\u001b[0m\u001b[1;33m(\u001b[0m\u001b[0minput_shape\u001b[0m\u001b[1;33m)\u001b[0m\u001b[1;33m\u001b[0m\u001b[0m\n\u001b[0m\u001b[0;32m     13\u001b[0m     \u001b[0mn\u001b[0m \u001b[1;33m=\u001b[0m \u001b[0mConv2d\u001b[0m\u001b[1;33m(\u001b[0m\u001b[1;36m64\u001b[0m\u001b[1;33m,\u001b[0m \u001b[1;33m(\u001b[0m\u001b[1;36m3\u001b[0m\u001b[1;33m,\u001b[0m \u001b[1;36m3\u001b[0m\u001b[1;33m)\u001b[0m\u001b[1;33m,\u001b[0m \u001b[1;33m(\u001b[0m\u001b[1;36m1\u001b[0m\u001b[1;33m,\u001b[0m \u001b[1;36m1\u001b[0m\u001b[1;33m)\u001b[0m\u001b[1;33m,\u001b[0m \u001b[0mact\u001b[0m\u001b[1;33m=\u001b[0m\u001b[0mtf\u001b[0m\u001b[1;33m.\u001b[0m\u001b[0mnn\u001b[0m\u001b[1;33m.\u001b[0m\u001b[0mrelu\u001b[0m\u001b[1;33m,\u001b[0m \u001b[0mpadding\u001b[0m\u001b[1;33m=\u001b[0m\u001b[1;34m'SAME'\u001b[0m\u001b[1;33m,\u001b[0m \u001b[0mw_init\u001b[0m\u001b[1;33m=\u001b[0m\u001b[0mw_init\u001b[0m\u001b[1;33m)\u001b[0m\u001b[1;33m(\u001b[0m\u001b[0mn0\u001b[0m\u001b[1;33m)\u001b[0m\u001b[1;33m\u001b[0m\u001b[0m\n\u001b[0;32m     14\u001b[0m     \u001b[0mtmp\u001b[0m \u001b[1;33m=\u001b[0m \u001b[0mn\u001b[0m\u001b[1;33m\u001b[0m\u001b[0m\n",
      "\u001b[1;32m~\\Anaconda3\\envs\\cnn-networks\\lib\\site-packages\\tensorlayer\\layers\\inputs.py\u001b[0m in \u001b[0;36m__init__\u001b[1;34m(self, inputs, name)\u001b[0m\n\u001b[0;32m     33\u001b[0m     \u001b[1;32mdef\u001b[0m \u001b[0m__init__\u001b[0m\u001b[1;33m(\u001b[0m\u001b[0mself\u001b[0m\u001b[1;33m,\u001b[0m \u001b[0minputs\u001b[0m\u001b[1;33m,\u001b[0m \u001b[0mname\u001b[0m\u001b[1;33m=\u001b[0m\u001b[1;34m'input'\u001b[0m\u001b[1;33m)\u001b[0m\u001b[1;33m:\u001b[0m\u001b[1;33m\u001b[0m\u001b[0m\n\u001b[0;32m     34\u001b[0m \u001b[1;33m\u001b[0m\u001b[0m\n\u001b[1;32m---> 35\u001b[1;33m         \u001b[0msuper\u001b[0m\u001b[1;33m(\u001b[0m\u001b[0mInputLayer\u001b[0m\u001b[1;33m,\u001b[0m \u001b[0mself\u001b[0m\u001b[1;33m)\u001b[0m\u001b[1;33m.\u001b[0m\u001b[0m__init__\u001b[0m\u001b[1;33m(\u001b[0m\u001b[0mprev_layer\u001b[0m\u001b[1;33m=\u001b[0m\u001b[0minputs\u001b[0m\u001b[1;33m,\u001b[0m \u001b[0mname\u001b[0m\u001b[1;33m=\u001b[0m\u001b[0mname\u001b[0m\u001b[1;33m)\u001b[0m\u001b[1;33m\u001b[0m\u001b[0m\n\u001b[0m\u001b[0;32m     36\u001b[0m \u001b[1;33m\u001b[0m\u001b[0m\n\u001b[0;32m     37\u001b[0m         \u001b[0mlogging\u001b[0m\u001b[1;33m.\u001b[0m\u001b[0minfo\u001b[0m\u001b[1;33m(\u001b[0m\u001b[1;34m\"InputLayer  %s: %s\"\u001b[0m \u001b[1;33m%\u001b[0m \u001b[1;33m(\u001b[0m\u001b[0mself\u001b[0m\u001b[1;33m.\u001b[0m\u001b[0mname\u001b[0m\u001b[1;33m,\u001b[0m \u001b[0minputs\u001b[0m\u001b[1;33m.\u001b[0m\u001b[0mget_shape\u001b[0m\u001b[1;33m(\u001b[0m\u001b[1;33m)\u001b[0m\u001b[1;33m)\u001b[0m\u001b[1;33m)\u001b[0m\u001b[1;33m\u001b[0m\u001b[0m\n",
      "\u001b[1;32m~\\Anaconda3\\envs\\cnn-networks\\lib\\site-packages\\tensorlayer\\decorators\\deprecated_alias.py\u001b[0m in \u001b[0;36mwrapper\u001b[1;34m(*args, **kwargs)\u001b[0m\n\u001b[0;32m     22\u001b[0m             \u001b[0mrename_kwargs\u001b[0m\u001b[1;33m(\u001b[0m\u001b[0mkwargs\u001b[0m\u001b[1;33m,\u001b[0m \u001b[0maliases\u001b[0m\u001b[1;33m,\u001b[0m \u001b[0mend_support_version\u001b[0m\u001b[1;33m,\u001b[0m \u001b[0mfunc_name\u001b[0m\u001b[1;33m)\u001b[0m\u001b[1;33m\u001b[0m\u001b[0m\n\u001b[0;32m     23\u001b[0m \u001b[1;33m\u001b[0m\u001b[0m\n\u001b[1;32m---> 24\u001b[1;33m             \u001b[1;32mreturn\u001b[0m \u001b[0mf\u001b[0m\u001b[1;33m(\u001b[0m\u001b[1;33m*\u001b[0m\u001b[0margs\u001b[0m\u001b[1;33m,\u001b[0m \u001b[1;33m**\u001b[0m\u001b[0mkwargs\u001b[0m\u001b[1;33m)\u001b[0m\u001b[1;33m\u001b[0m\u001b[0m\n\u001b[0m\u001b[0;32m     25\u001b[0m \u001b[1;33m\u001b[0m\u001b[0m\n\u001b[0;32m     26\u001b[0m         \u001b[1;32mreturn\u001b[0m \u001b[0mwrapper\u001b[0m\u001b[1;33m\u001b[0m\u001b[0m\n",
      "\u001b[1;32m~\\Anaconda3\\envs\\cnn-networks\\lib\\site-packages\\tensorlayer\\layers\\core.py\u001b[0m in \u001b[0;36m__init__\u001b[1;34m(self, prev_layer, act, name, *args, **kwargs)\u001b[0m\n\u001b[0;32m    162\u001b[0m         \u001b[1;32melif\u001b[0m \u001b[0mprev_layer\u001b[0m \u001b[1;32mis\u001b[0m \u001b[1;32mnot\u001b[0m \u001b[1;32mNone\u001b[0m\u001b[1;33m:\u001b[0m\u001b[1;33m\u001b[0m\u001b[0m\n\u001b[0;32m    163\u001b[0m             \u001b[1;31m# 4. tl.models\u001b[0m\u001b[1;33m\u001b[0m\u001b[1;33m\u001b[0m\u001b[0m\n\u001b[1;32m--> 164\u001b[1;33m             \u001b[0mself\u001b[0m\u001b[1;33m.\u001b[0m\u001b[0m_add_layers\u001b[0m\u001b[1;33m(\u001b[0m\u001b[0mprev_layer\u001b[0m\u001b[1;33m.\u001b[0m\u001b[0mall_layers\u001b[0m\u001b[1;33m)\u001b[0m\u001b[1;33m\u001b[0m\u001b[0m\n\u001b[0m\u001b[0;32m    165\u001b[0m             \u001b[0mself\u001b[0m\u001b[1;33m.\u001b[0m\u001b[0m_add_params\u001b[0m\u001b[1;33m(\u001b[0m\u001b[0mprev_layer\u001b[0m\u001b[1;33m.\u001b[0m\u001b[0mall_params\u001b[0m\u001b[1;33m)\u001b[0m\u001b[1;33m\u001b[0m\u001b[0m\n\u001b[0;32m    166\u001b[0m             \u001b[0mself\u001b[0m\u001b[1;33m.\u001b[0m\u001b[0m_add_dropout_layers\u001b[0m\u001b[1;33m(\u001b[0m\u001b[0mprev_layer\u001b[0m\u001b[1;33m.\u001b[0m\u001b[0mall_drop\u001b[0m\u001b[1;33m)\u001b[0m\u001b[1;33m\u001b[0m\u001b[0m\n",
      "\u001b[1;31mAttributeError\u001b[0m: 'tuple' object has no attribute 'all_layers'"
     ]
    }
   ],
   "source": [
    "#from tensorlayer.layers import (INPUT, CONV2D, BATCHNORM, ELEMENTWISE, SUBPIXELCONV2D, FLATTEN, DENSE)\n",
    "#from tensorlayer.models import MODEL\n",
    "import tensorflow as tf\n",
    "import tensorlayer as tfl\n",
    "from tensorlayer.layers import (InputLayer, Conv2d, BatchNormLayer, ElementwiseLayer, SubpixelConv2d, FlattenLayer, DenseLayer)\n",
    "from tensorlayer.models import *\n",
    "\n",
    "def SRGAN_GEN(input_shape):\n",
    "    w_init = tf.random_normal_initializer(stddev=0.02)\n",
    "    g_init = tf.random_normal_initializer(1., 0.02)\n",
    "    \n",
    "    n0 = InputLayer(input_shape)\n",
    "    n = Conv2d(64, (3, 3), (1, 1), act=tf.nn.relu, padding='SAME', w_init=w_init)(n0)\n",
    "    tmp = n\n",
    "    \n",
    "    # Residual blocks\n",
    "    for i in range(16):\n",
    "        nn = Conv2d(64, (3, 3), (1, 1), padding='SAME', W_init=w_init, b_init=None)(n)\n",
    "        nn = BatchNormLayer(act=tf.nn.relu, gamma_init=g_init)(nn)\n",
    "        nn = Conv2d(64, (3,3), (1, 1), padding='SAME', W_init=w_init, b_init=None)(nn)\n",
    "        nn = BatchNormLayer(gamma_init=g_init)(n)\n",
    "        nn = ElementwiseLayer(tf.add)([n, nn])\n",
    "        n  = nn\n",
    "    \n",
    "    n = Conv2d(64, (3, 3), (1, 1), padding='SAME', W_init=w_init, b_init=None)(n)\n",
    "    n = BatchNormLayer(gamma_init=g_init)(n)\n",
    "    n = ElementwiseLayer(tf.add)([n, tmp])\n",
    "    \n",
    "    n = Conv2d(256, (3, 3), (1, 1), padding='SAME', W_init=w_init)(n)\n",
    "    n = SubPixelConv2D(scale=2, n_out_channels=None, act=tf.nn.relu)(n)\n",
    "    \n",
    "    n = Conv2D(256, (3, 3), (1, 1), padding='SAME', W_init=w_init)(n)\n",
    "    n = SubPixelConv2d(scale=2, n_out_channels=None, act=tf.nn.relu)(n)\n",
    "    \n",
    "    nn = Conv2d(3, (1, 1), (1, 1), act=tf.nn.tanh, padding='SAME', W_init=w_init)(n)\n",
    "    \n",
    "    GEN = Model(inputs=n0, outputs=nn, name='SRGAN_GENERATOR')\n",
    "    \n",
    "    return GEN\n",
    "\n",
    "\n",
    "def SRGAN_DIS(input_shape):\n",
    "    w_init = tf.random_normal_initializer(stddev=0.02)\n",
    "    gamma_init = tf.random_normal_initializer(1., 0.02)\n",
    "    \n",
    "    n0 = InputLayer(input_shape)\n",
    "    n = Conv2d(64, (4, 4), (2, 2), act=tfl.act.lrelu(0.2), padding='SAME', W_init=w_init)(n0)\n",
    "    \n",
    "    n = Conv2d(64 * 2, (4, 4), (2, 2), padding='SAME', W_init=w_init, b_init=None)(n)\n",
    "    n = BatchNormLayer(act=lrelu, gamma_init=gamma_init)(n)\n",
    "    n = Conv2d(64 * 4, (4, 4), (2, 2), padding='SAME', W_init=w_init, b_init=None)(n)\n",
    "    n = BatchNormLayer(act=lrelu, gamma_init=gamma_init)(n)\n",
    "    n = Conv2d(64 * 8, (4, 4), (2, 2), padding='SAME', W_init=w_init, b_init=None)(n)\n",
    "    n = BatchNormLayer(act=lrelu, gamma_init=gamma_init)(n)\n",
    "    n = Conv2d(64 * 16, (4, 4), (2, 2), padding='SAME', W_init=w_init, b_init=None)(n)\n",
    "    n = BatchNormLayer(act=lrelu, gamma_init=gamma_init)(n)\n",
    "    n = Conv2d(64 * 32, (4, 4), (2, 2), padding='SAME', W_init=w_init, b_init=None)(n)\n",
    "    n = BatchNormLayer(act=lrelu, gamma_init=gamma_init)(n)\n",
    "    n = Conv2d(64 * 16, (1, 1), (1, 1), padding='SAME', W_init=w_init, b_init=None)(n)\n",
    "    n = BatchNormLayer(act=lrelu, gamma_init=gamma_init)(n)\n",
    "    n = Conv2d(64 * 8, (1, 1), (1, 1), padding='SAME', W_init=w_init, b_init=None)(n)\n",
    "    nn = BatchNormLayer(gamma_init=gamma_init)(n)\n",
    "    \n",
    "    n = Conv2d(64 * 2, (1, 1), (2, 2), padding='SAME', W_init=w_init, b_init=None)(nn)\n",
    "    n = BatchNormLayer(act=lrelu, gamma_init=gamma_init)(n)\n",
    "    n = Conv2d(64 * 2, (3, 3), (1, 1), padding='SAME', W_init=w_init, b_init=None)(n)\n",
    "    n = BatchNormLayer(act=lrelu, gamma_init=gamma_init)(n)\n",
    "    n = Conv2d(64 * 8, (3, 3), (1, 1), padding='SAME', W_init=w_init, b_init=None)(n)\n",
    "    n = BatchNormLayer(gamma_init=gamma_init)(n)\n",
    "    n = ElementwiseLayer(tf.add, act=lrelu)(n, nn)\n",
    "    \n",
    "    n = FlattenLayer()(n)\n",
    "    no = DenseLayer(n_units=1, W_init=w_init)(n)\n",
    "    DIS = Model(inputs=n0, outputs=no, name=\"SRGAN_DISCRIMINATOR\")\n",
    "    \n",
    "    return DIS\n",
    "\n",
    "\n",
    "GEN = SRGAN_GEN((batch_size, None, None, 3)) # (None, 96, 96, 3)\n",
    "DIS = SRGAN_DIS((batch_size, None, None, 3)) # (None, 384, 384, 3)\n",
    "\n",
    "VGG19 = tfl.models.vgg19(pretrained=True, end_with='pool4', mode='static')\n"
   ]
  },
  {
   "cell_type": "markdown",
   "metadata": {},
   "source": [
    "Training pipeline"
   ]
  },
  {
   "cell_type": "code",
   "execution_count": 14,
   "metadata": {},
   "outputs": [
    {
     "ename": "AttributeError",
     "evalue": "'tuple' object has no attribute 'all_layers'",
     "output_type": "error",
     "traceback": [
      "\u001b[1;31m---------------------------------------------------------------------------\u001b[0m",
      "\u001b[1;31mAttributeError\u001b[0m                            Traceback (most recent call last)",
      "\u001b[1;32m<ipython-input-14-cb69a6c9158d>\u001b[0m in \u001b[0;36m<module>\u001b[1;34m\u001b[0m\n\u001b[1;32m----> 1\u001b[1;33m \u001b[0mGEN\u001b[0m \u001b[1;33m=\u001b[0m \u001b[0mSRGAN_GEN\u001b[0m\u001b[1;33m(\u001b[0m\u001b[1;33m(\u001b[0m\u001b[0mbatch_size\u001b[0m\u001b[1;33m,\u001b[0m \u001b[1;32mNone\u001b[0m\u001b[1;33m,\u001b[0m \u001b[1;32mNone\u001b[0m\u001b[1;33m,\u001b[0m \u001b[1;36m3\u001b[0m\u001b[1;33m)\u001b[0m\u001b[1;33m)\u001b[0m \u001b[1;31m# (None, 96, 96, 3)\u001b[0m\u001b[1;33m\u001b[0m\u001b[0m\n\u001b[0m\u001b[0;32m      2\u001b[0m \u001b[0mDIS\u001b[0m \u001b[1;33m=\u001b[0m \u001b[0mSRGAN_DIS\u001b[0m\u001b[1;33m(\u001b[0m\u001b[1;33m(\u001b[0m\u001b[0mbatch_size\u001b[0m\u001b[1;33m,\u001b[0m \u001b[1;32mNone\u001b[0m\u001b[1;33m,\u001b[0m \u001b[1;32mNone\u001b[0m\u001b[1;33m,\u001b[0m \u001b[1;36m3\u001b[0m\u001b[1;33m)\u001b[0m\u001b[1;33m)\u001b[0m \u001b[1;31m# (None, 384, 384, 3)\u001b[0m\u001b[1;33m\u001b[0m\u001b[0m\n\u001b[0;32m      3\u001b[0m \u001b[1;33m\u001b[0m\u001b[0m\n\u001b[0;32m      4\u001b[0m \u001b[0mVGG19\u001b[0m \u001b[1;33m=\u001b[0m \u001b[0mtfl\u001b[0m\u001b[1;33m.\u001b[0m\u001b[0mmodels\u001b[0m\u001b[1;33m.\u001b[0m\u001b[0mvgg19\u001b[0m\u001b[1;33m(\u001b[0m\u001b[0mpretrained\u001b[0m\u001b[1;33m=\u001b[0m\u001b[1;32mTrue\u001b[0m\u001b[1;33m,\u001b[0m \u001b[0mend_with\u001b[0m\u001b[1;33m=\u001b[0m\u001b[1;34m'pool4'\u001b[0m\u001b[1;33m,\u001b[0m \u001b[0mmode\u001b[0m\u001b[1;33m=\u001b[0m\u001b[1;34m'static'\u001b[0m\u001b[1;33m)\u001b[0m\u001b[1;33m\u001b[0m\u001b[0m\n\u001b[0;32m      5\u001b[0m \u001b[1;33m\u001b[0m\u001b[0m\n",
      "\u001b[1;32m<ipython-input-13-ee5910242918>\u001b[0m in \u001b[0;36mSRGAN_GEN\u001b[1;34m(input_shape)\u001b[0m\n\u001b[0;32m     10\u001b[0m     \u001b[0mg_init\u001b[0m \u001b[1;33m=\u001b[0m \u001b[0mtf\u001b[0m\u001b[1;33m.\u001b[0m\u001b[0mrandom_normal_initializer\u001b[0m\u001b[1;33m(\u001b[0m\u001b[1;36m1.\u001b[0m\u001b[1;33m,\u001b[0m \u001b[1;36m0.02\u001b[0m\u001b[1;33m)\u001b[0m\u001b[1;33m\u001b[0m\u001b[0m\n\u001b[0;32m     11\u001b[0m \u001b[1;33m\u001b[0m\u001b[0m\n\u001b[1;32m---> 12\u001b[1;33m     \u001b[0mn0\u001b[0m \u001b[1;33m=\u001b[0m \u001b[0mInputLayer\u001b[0m\u001b[1;33m(\u001b[0m\u001b[0minput_shape\u001b[0m\u001b[1;33m)\u001b[0m\u001b[1;33m\u001b[0m\u001b[0m\n\u001b[0m\u001b[0;32m     13\u001b[0m     \u001b[0mn\u001b[0m \u001b[1;33m=\u001b[0m \u001b[0mConv2d\u001b[0m\u001b[1;33m(\u001b[0m\u001b[1;36m64\u001b[0m\u001b[1;33m,\u001b[0m \u001b[1;33m(\u001b[0m\u001b[1;36m3\u001b[0m\u001b[1;33m,\u001b[0m \u001b[1;36m3\u001b[0m\u001b[1;33m)\u001b[0m\u001b[1;33m,\u001b[0m \u001b[1;33m(\u001b[0m\u001b[1;36m1\u001b[0m\u001b[1;33m,\u001b[0m \u001b[1;36m1\u001b[0m\u001b[1;33m)\u001b[0m\u001b[1;33m,\u001b[0m \u001b[0mact\u001b[0m\u001b[1;33m=\u001b[0m\u001b[0mtf\u001b[0m\u001b[1;33m.\u001b[0m\u001b[0mnn\u001b[0m\u001b[1;33m.\u001b[0m\u001b[0mrelu\u001b[0m\u001b[1;33m,\u001b[0m \u001b[0mpadding\u001b[0m\u001b[1;33m=\u001b[0m\u001b[1;34m'SAME'\u001b[0m\u001b[1;33m,\u001b[0m \u001b[0mw_init\u001b[0m\u001b[1;33m=\u001b[0m\u001b[0mw_init\u001b[0m\u001b[1;33m)\u001b[0m\u001b[1;33m(\u001b[0m\u001b[0mn0\u001b[0m\u001b[1;33m)\u001b[0m\u001b[1;33m\u001b[0m\u001b[0m\n\u001b[0;32m     14\u001b[0m     \u001b[0mtmp\u001b[0m \u001b[1;33m=\u001b[0m \u001b[0mn\u001b[0m\u001b[1;33m\u001b[0m\u001b[0m\n",
      "\u001b[1;32m~\\Anaconda3\\envs\\cnn-networks\\lib\\site-packages\\tensorlayer\\layers\\inputs.py\u001b[0m in \u001b[0;36m__init__\u001b[1;34m(self, inputs, name)\u001b[0m\n\u001b[0;32m     33\u001b[0m     \u001b[1;32mdef\u001b[0m \u001b[0m__init__\u001b[0m\u001b[1;33m(\u001b[0m\u001b[0mself\u001b[0m\u001b[1;33m,\u001b[0m \u001b[0minputs\u001b[0m\u001b[1;33m,\u001b[0m \u001b[0mname\u001b[0m\u001b[1;33m=\u001b[0m\u001b[1;34m'input'\u001b[0m\u001b[1;33m)\u001b[0m\u001b[1;33m:\u001b[0m\u001b[1;33m\u001b[0m\u001b[0m\n\u001b[0;32m     34\u001b[0m \u001b[1;33m\u001b[0m\u001b[0m\n\u001b[1;32m---> 35\u001b[1;33m         \u001b[0msuper\u001b[0m\u001b[1;33m(\u001b[0m\u001b[0mInputLayer\u001b[0m\u001b[1;33m,\u001b[0m \u001b[0mself\u001b[0m\u001b[1;33m)\u001b[0m\u001b[1;33m.\u001b[0m\u001b[0m__init__\u001b[0m\u001b[1;33m(\u001b[0m\u001b[0mprev_layer\u001b[0m\u001b[1;33m=\u001b[0m\u001b[0minputs\u001b[0m\u001b[1;33m,\u001b[0m \u001b[0mname\u001b[0m\u001b[1;33m=\u001b[0m\u001b[0mname\u001b[0m\u001b[1;33m)\u001b[0m\u001b[1;33m\u001b[0m\u001b[0m\n\u001b[0m\u001b[0;32m     36\u001b[0m \u001b[1;33m\u001b[0m\u001b[0m\n\u001b[0;32m     37\u001b[0m         \u001b[0mlogging\u001b[0m\u001b[1;33m.\u001b[0m\u001b[0minfo\u001b[0m\u001b[1;33m(\u001b[0m\u001b[1;34m\"InputLayer  %s: %s\"\u001b[0m \u001b[1;33m%\u001b[0m \u001b[1;33m(\u001b[0m\u001b[0mself\u001b[0m\u001b[1;33m.\u001b[0m\u001b[0mname\u001b[0m\u001b[1;33m,\u001b[0m \u001b[0minputs\u001b[0m\u001b[1;33m.\u001b[0m\u001b[0mget_shape\u001b[0m\u001b[1;33m(\u001b[0m\u001b[1;33m)\u001b[0m\u001b[1;33m)\u001b[0m\u001b[1;33m)\u001b[0m\u001b[1;33m\u001b[0m\u001b[0m\n",
      "\u001b[1;32m~\\Anaconda3\\envs\\cnn-networks\\lib\\site-packages\\tensorlayer\\decorators\\deprecated_alias.py\u001b[0m in \u001b[0;36mwrapper\u001b[1;34m(*args, **kwargs)\u001b[0m\n\u001b[0;32m     22\u001b[0m             \u001b[0mrename_kwargs\u001b[0m\u001b[1;33m(\u001b[0m\u001b[0mkwargs\u001b[0m\u001b[1;33m,\u001b[0m \u001b[0maliases\u001b[0m\u001b[1;33m,\u001b[0m \u001b[0mend_support_version\u001b[0m\u001b[1;33m,\u001b[0m \u001b[0mfunc_name\u001b[0m\u001b[1;33m)\u001b[0m\u001b[1;33m\u001b[0m\u001b[0m\n\u001b[0;32m     23\u001b[0m \u001b[1;33m\u001b[0m\u001b[0m\n\u001b[1;32m---> 24\u001b[1;33m             \u001b[1;32mreturn\u001b[0m \u001b[0mf\u001b[0m\u001b[1;33m(\u001b[0m\u001b[1;33m*\u001b[0m\u001b[0margs\u001b[0m\u001b[1;33m,\u001b[0m \u001b[1;33m**\u001b[0m\u001b[0mkwargs\u001b[0m\u001b[1;33m)\u001b[0m\u001b[1;33m\u001b[0m\u001b[0m\n\u001b[0m\u001b[0;32m     25\u001b[0m \u001b[1;33m\u001b[0m\u001b[0m\n\u001b[0;32m     26\u001b[0m         \u001b[1;32mreturn\u001b[0m \u001b[0mwrapper\u001b[0m\u001b[1;33m\u001b[0m\u001b[0m\n",
      "\u001b[1;32m~\\Anaconda3\\envs\\cnn-networks\\lib\\site-packages\\tensorlayer\\layers\\core.py\u001b[0m in \u001b[0;36m__init__\u001b[1;34m(self, prev_layer, act, name, *args, **kwargs)\u001b[0m\n\u001b[0;32m    162\u001b[0m         \u001b[1;32melif\u001b[0m \u001b[0mprev_layer\u001b[0m \u001b[1;32mis\u001b[0m \u001b[1;32mnot\u001b[0m \u001b[1;32mNone\u001b[0m\u001b[1;33m:\u001b[0m\u001b[1;33m\u001b[0m\u001b[0m\n\u001b[0;32m    163\u001b[0m             \u001b[1;31m# 4. tl.models\u001b[0m\u001b[1;33m\u001b[0m\u001b[1;33m\u001b[0m\u001b[0m\n\u001b[1;32m--> 164\u001b[1;33m             \u001b[0mself\u001b[0m\u001b[1;33m.\u001b[0m\u001b[0m_add_layers\u001b[0m\u001b[1;33m(\u001b[0m\u001b[0mprev_layer\u001b[0m\u001b[1;33m.\u001b[0m\u001b[0mall_layers\u001b[0m\u001b[1;33m)\u001b[0m\u001b[1;33m\u001b[0m\u001b[0m\n\u001b[0m\u001b[0;32m    165\u001b[0m             \u001b[0mself\u001b[0m\u001b[1;33m.\u001b[0m\u001b[0m_add_params\u001b[0m\u001b[1;33m(\u001b[0m\u001b[0mprev_layer\u001b[0m\u001b[1;33m.\u001b[0m\u001b[0mall_params\u001b[0m\u001b[1;33m)\u001b[0m\u001b[1;33m\u001b[0m\u001b[0m\n\u001b[0;32m    166\u001b[0m             \u001b[0mself\u001b[0m\u001b[1;33m.\u001b[0m\u001b[0m_add_dropout_layers\u001b[0m\u001b[1;33m(\u001b[0m\u001b[0mprev_layer\u001b[0m\u001b[1;33m.\u001b[0m\u001b[0mall_drop\u001b[0m\u001b[1;33m)\u001b[0m\u001b[1;33m\u001b[0m\u001b[0m\n",
      "\u001b[1;31mAttributeError\u001b[0m: 'tuple' object has no attribute 'all_layers'"
     ]
    }
   ],
   "source": [
    "\n",
    "\n",
    "print(GEN)\n",
    "print(DIS)\n",
    "print(VGG19)\n",
    "\n",
    "# optimizer\n",
    "gen_opt = tf.optimizer.Adam(1e-4, beta_1=beta1)\n",
    "dis_opt = tf.optimizer.Adam(1e-4, beta_1=beta1)\n",
    "\n",
    "\n",
    "# Initial learning\n",
    "n_step = round(n_epoch // batch_size)\n",
    "for step, (lr_patchs, hr_patchs) in enumerate(train_images_ds):\n",
    "    time_stamp = time.time()\n",
    "    with tf.GradientTape() as grad:\n",
    "        pred_hr_patch = GEN(lr_patch)\n",
    "        mse_loss = tfl.cost.mean_squared_error(pred_hr_patch, hr_patch, is_mean=True)\n",
    "    w_grad = grad.gradient(mse_loss, GEN.weights)\n",
    "    g_opt.apply_gradients(zip(grad, GEN.weights))\n",
    "    step += 1\n",
    "    epoch = step // n_step\n",
    "    print(\"Epoch: [{}/{}] step:[{}/{}] time: {}s, mse: {}\".format(epoch, n_epoch, step, n_step, time.time() - time_stamp, mse_loss))\n",
    "\n",
    "\n",
    "# Generate Adversarial network training (GEN, DIS)\n",
    "n_step = round(n_epoch // batch_size)\n",
    "for step, (lr_patchs, hr_patchs) in enumerate(train_images_ds):\n",
    "    with tf.GradientTape as grad:\n",
    "        pred_patchs = GEN(lr_patchs)\n",
    "        pred_logits = DIS(pred_patchs)\n",
    "        real_logits = DIS(hr_patchs)\n",
    "        pred_feature = VGG19((pred_patchs+1)/2.)\n",
    "        real_feature = VGG19((hr_patchs+1)/2.)\n",
    "        d_loss1 = tfl.cost.sigmoid_cross_entropy(real_logits, tf.ones_like(real_logits))\n",
    "        d_loss2 = tfl.cost.sigmoid_cross_entropy(pred_logits, tf.zeros_like(pred_logits))\n",
    "        d_loss = d_loss1 + d_loss2\n",
    "        g_gan_loss = 1e-3 * tfl.cost.sigmoid_cross_entropy(pred_logits, tf.ones_like(pred_logits))\n",
    "        mse_loss = tfl.cost.mean_squared_error(pred_patchs, hr_patchs, is_mean=True)\n",
    "        vgg_loss = 2e-6 * tfl.cost.mean_squared_error(pred_feature, real_feature, is_mean=True)\n",
    "        g_loss = mse_loss + vgg_loss + g_gan_loss\n",
    "        \n",
    "    gen_grad = grad.gradient(g_loss, GEN.trainable_weights)\n",
    "    gen_opt.apply_gradients(zip(gen_grad, GEN.trainable_weights))\n",
    "    dis_grad = grad.gradient(d_loss, DIS.trainable_weights)\n",
    "    dis_optimizer.apply_gradients(zip(grad, DIS.trainable_weights))\n",
    "    step += 1\n",
    "    epoch = step//n_step\n",
    "    print(\"Epoch: [{}/{}] step: [{}/{}] time: {}s, g_loss(mse:{}, vgg:{}, adv:{}) d_loss: {}\".format(\n",
    "           epoch, n_epoch_init, step, n_step_epoch, time.time() - step_time, mse_loss, vgg_loss, g_gan_loss, d_loss))\n",
    "\n",
    "    \n",
    "    # Update the learning rate\n",
    "    decay_step = n_epoch // 2\n",
    "    if epoch != 0 and (epoch % decay_step == 0):\n",
    "        new_lr_decay = (0.1)**(epoch // decay_step)\n",
    "        lr_v.assign(1e-4 * new_lr_decay)\n",
    "        log = \" ** new learning rate: %f (for GAN)\" % (1e-4 * new_lr_decay)\n",
    "        print(log)\n",
    "    \n",
    "    \n",
    "    \n",
    "    \n",
    "    "
   ]
  },
  {
   "cell_type": "code",
   "execution_count": null,
   "metadata": {},
   "outputs": [],
   "source": []
  }
 ],
 "metadata": {
  "kernelspec": {
   "display_name": "Python 3",
   "language": "python",
   "name": "python3"
  },
  "language_info": {
   "codemirror_mode": {
    "name": "ipython",
    "version": 3
   },
   "file_extension": ".py",
   "mimetype": "text/x-python",
   "name": "python",
   "nbconvert_exporter": "python",
   "pygments_lexer": "ipython3",
   "version": "3.6.6"
  }
 },
 "nbformat": 4,
 "nbformat_minor": 2
}
